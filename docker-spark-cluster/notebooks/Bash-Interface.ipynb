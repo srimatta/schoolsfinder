{
 "cells": [
  {
   "cell_type": "markdown",
   "metadata": {},
   "source": [
    "# Your Bash interface righ here!"
   ]
  },
  {
   "cell_type": "code",
   "execution_count": 5,
   "metadata": {},
   "outputs": [
    {
     "name": "stdout",
     "output_type": "stream",
     "text": [
      "'Bash - Interface.ipynb'   Python-Spark.ipynb   \u001b[0m\u001b[01;34mdatasets\u001b[0m\n"
     ]
    }
   ],
   "source": [
    "ls"
   ]
  },
  {
   "cell_type": "code",
   "execution_count": 7,
   "metadata": {},
   "outputs": [
    {
     "name": "stdout",
     "output_type": "stream",
     "text": [
      "total 172K\n",
      "drwxr-xr-x 1 root root 4.0K Dec 11 21:24  \u001b[0m\u001b[01;34m.\u001b[0m\n",
      "drwx------ 1 root root 4.0K Dec 11 21:18  \u001b[01;34m..\u001b[0m\n",
      "drwxr-xr-x 2 root root 4.0K Dec 11 21:24  \u001b[01;34m.ipynb_checkpoints\u001b[0m\n",
      "-rw-r--r-- 1 root root  391 Dec 11 21:24 'Bash - Interface.ipynb'\n",
      "-rw-rw-r-- 1 root root 146K Dec  8 22:45  Python-Spark.ipynb\n",
      "drwxr-xr-x 2 root root 4.0K Dec 11 21:17  \u001b[01;34mdatasets\u001b[0m\n"
     ]
    }
   ],
   "source": [
    "ls -ahl"
   ]
  },
  {
   "cell_type": "code",
   "execution_count": null,
   "metadata": {},
   "outputs": [],
   "source": []
  }
 ],
 "metadata": {
  "kernelspec": {
   "display_name": "Bash",
   "language": "bash",
   "name": "bash"
  },
  "language_info": {
   "codemirror_mode": "shell",
   "file_extension": ".sh",
   "mimetype": "text/x-sh",
   "name": "bash"
  }
 },
 "nbformat": 4,
 "nbformat_minor": 2
}
